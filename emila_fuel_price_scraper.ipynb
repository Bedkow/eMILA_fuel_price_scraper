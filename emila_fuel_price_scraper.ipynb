{
  "nbformat": 4,
  "nbformat_minor": 0,
  "metadata": {
    "kernelspec": {
      "display_name": "Python 3",
      "language": "python",
      "name": "python3"
    },
    "language_info": {
      "codemirror_mode": {
        "name": "ipython",
        "version": 3
      },
      "file_extension": ".py",
      "mimetype": "text/x-python",
      "name": "python",
      "nbconvert_exporter": "python",
      "pygments_lexer": "ipython3",
      "version": "3.7.6"
    },
    "colab": {
      "name": "emila fuel price scraper.ipynb",
      "provenance": [],
      "collapsed_sections": [],
      "include_colab_link": true
    }
  },
  "cells": [
    {
      "cell_type": "markdown",
      "metadata": {
        "id": "view-in-github",
        "colab_type": "text"
      },
      "source": [
        "<a href=\"https://colab.research.google.com/github/Lewandowski-commits/eMILA_fuel_price_scraper/blob/main/emila_fuel_price_scraper.ipynb\" target=\"_parent\"><img src=\"https://colab.research.google.com/assets/colab-badge.svg\" alt=\"Open In Colab\"/></a>"
      ]
    },
    {
      "cell_type": "code",
      "metadata": {
        "id": "1OT1-vw3VSWS"
      },
      "source": [
        "import pandas as pd\n",
        "import requests\n",
        "from bs4 import BeautifulSoup as bs\n",
        "from plotly import express as px  \n",
        "from datetime import datetime\n",
        "import re"
      ],
      "execution_count": null,
      "outputs": []
    },
    {
      "cell_type": "code",
      "metadata": {
        "id": "sRKm556sQJXt"
      },
      "source": [
        "#set up the address and variables for scraping\n",
        "url = \"https://emila.com.pl/mapa-stacji\"\n",
        "page = requests.get(url)\n",
        "soup = bs(page.text, \"html.parser\")\n",
        "\n",
        "#find all items/cities in the scrollable widget\n",
        "list_items = soup.find_all(\"div\", \"emila-list__item\")\n",
        "\n",
        "#set up our dictionary that later will turn into the dataframe\n",
        "data_dict = {\"link\": [], \"city\": [], \"street\": []}\n",
        "\n",
        "#populate the dictionary with the scraped data\n",
        "for item in list_items:\n",
        "    link = item.find_all(\"a\", href=True)[-1][\"href\"]\n",
        "    city = item.find(\"p\", re.compile(\"emila-list__city|emila-list__city_moya\")).text\n",
        "    street = item.find(\"p\", \"emila-list__street\").text\n",
        "    \n",
        "    data_dict[\"link\"].append(link)\n",
        "    data_dict[\"city\"].append(city)\n",
        "    data_dict[\"street\"].append(street)\n",
        "\n",
        "#construct the dataframe\n",
        "df = pd.DataFrame.from_dict(data_dict)\n",
        "\n",
        "#drop any duplicates just in case\n",
        "df = df.drop_duplicates()\n",
        "\n",
        "#select only entries for eMILA stations, as the ones starting with moyastacja.pl were sold off different company and don't display their fuel prices\n",
        "df = df[df[\"link\"].str.contains(\"/stacja/\")]"
      ],
      "execution_count": null,
      "outputs": []
    },
    {
      "cell_type": "code",
      "metadata": {
        "id": "rXtOBy3NjcZl"
      },
      "source": [
        "#create a function that takes in the station-specific URL and parses both fuel prices (diesel and gas) into floats, as they're contained in separate HTML tags\n",
        "def get_fuel_price_emila(url: str):\n",
        "    url = \"https://emila.com.pl/\"+url\n",
        "    page = requests.get(url)\n",
        "    soup = bs(page.text, \"html.parser\")\n",
        "    \n",
        "    #create a dict that will store the fuel type as the key and its price as the value\n",
        "    fuel = {}\n",
        "    \n",
        "    #run this for every fuel type widget on the site\n",
        "    price_rows = soup.find_all(\"div\", \"price__row\")[:-1]\n",
        "    for row in price_rows:\n",
        "        #read the fuel type\n",
        "        name = str(row.find(\"span\", \"station__icon-title\").text)\n",
        "\n",
        "        #read the numbers that make the price up\n",
        "        firstNum = str(row.find(\"span\", \"station__icon station__icon--big station__icon--width\").text)\n",
        "        secondNum = str(row.find_all(\"span\", \"station__icon station__icon--big station__icon--width station__icon--gray\")[0].text)\n",
        "        thirdNum = str(row.find_all(\"span\", \"station__icon station__icon--big station__icon--width station__icon--gray\")[-1].text)\n",
        "        \n",
        "        #write the price to the dict\n",
        "        fuel[name] = float(f\"{firstNum}.{secondNum}{thirdNum}\")\n",
        "        \n",
        "    return fuel\n",
        "\n",
        "#append columns with both fuel type prices to the dataframe using the above function\n",
        "df[\"diesel\"] = df[\"link\"].apply(lambda x: get_fuel_price_emila(x)[\"DIESEL\"])\n",
        "df[\"gas\"] = df[\"link\"].apply(lambda x: get_fuel_price_emila(x)[\"PB\"])"
      ],
      "execution_count": null,
      "outputs": []
    },
    {
      "cell_type": "code",
      "metadata": {
        "id": "to4EefrvQJcf",
        "outputId": "0c138c43-cfa4-4165-ce35-56081c87d461",
        "colab": {
          "base_uri": "https://localhost:8080/",
          "height": 542
        }
      },
      "source": [
        "#create a scatter plot of the prices and display it\n",
        "fig = px.scatter(df, x=\"diesel\", \n",
        "                 y=\"gas\", \n",
        "                 color=\"city\", \n",
        "                 title=f\"Scatter plot of eMILA fuel prices across the country on {datetime.now()}\",\n",
        "                 hover_data=[\"street\"],\n",
        "                 text=\"city\")\n",
        "fig.update_traces(textposition='top center')\n",
        "fig.show()"
      ],
      "execution_count": null,
      "outputs": [
        {
          "output_type": "display_data",
          "data": {
            "text/html": [
              "<html>\n",
              "<head><meta charset=\"utf-8\" /></head>\n",
              "<body>\n",
              "    <div>\n",
              "            <script src=\"https://cdnjs.cloudflare.com/ajax/libs/mathjax/2.7.5/MathJax.js?config=TeX-AMS-MML_SVG\"></script><script type=\"text/javascript\">if (window.MathJax) {MathJax.Hub.Config({SVG: {font: \"STIX-Web\"}});}</script>\n",
              "                <script type=\"text/javascript\">window.PlotlyConfig = {MathJaxConfig: 'local'};</script>\n",
              "        <script src=\"https://cdn.plot.ly/plotly-latest.min.js\"></script>    \n",
              "            <div id=\"08079e5d-71f9-4afc-86e4-7303176c813b\" class=\"plotly-graph-div\" style=\"height:525px; width:100%;\"></div>\n",
              "            <script type=\"text/javascript\">\n",
              "                \n",
              "                    window.PLOTLYENV=window.PLOTLYENV || {};\n",
              "                    \n",
              "                if (document.getElementById(\"08079e5d-71f9-4afc-86e4-7303176c813b\")) {\n",
              "                    Plotly.newPlot(\n",
              "                        '08079e5d-71f9-4afc-86e4-7303176c813b',\n",
              "                        [{\"customdata\": [[\"ul. Konstytucji/Falista\"]], \"hoverlabel\": {\"namelength\": 0}, \"hovertemplate\": \"city=%{text}<br>diesel=%{x}<br>gas=%{y}<br>street=%{customdata[0]}\", \"legendgroup\": \"city=Bytom\", \"marker\": {\"color\": \"#636efa\", \"symbol\": \"circle\"}, \"mode\": \"markers+text\", \"name\": \"city=Bytom\", \"showlegend\": true, \"text\": [\"Bytom\"], \"textposition\": \"top center\", \"type\": \"scatter\", \"x\": [4.06], \"xaxis\": \"x\", \"y\": [4.19], \"yaxis\": \"y\"}, {\"customdata\": [[\"ul. Elbl\\u0105ska 98c\"]], \"hoverlabel\": {\"namelength\": 0}, \"hovertemplate\": \"city=%{text}<br>diesel=%{x}<br>gas=%{y}<br>street=%{customdata[0]}\", \"legendgroup\": \"city=Gda\\u0144sk\", \"marker\": {\"color\": \"#EF553B\", \"symbol\": \"circle\"}, \"mode\": \"markers+text\", \"name\": \"city=Gda\\u0144sk\", \"showlegend\": true, \"text\": [\"Gda\\u0144sk\"], \"textposition\": \"top center\", \"type\": \"scatter\", \"x\": [4.29], \"xaxis\": \"x\", \"y\": [4.34], \"yaxis\": \"y\"}, {\"customdata\": [[\"ul. Morska 116A\"], [\"ul. Nowowiczli\\u0144ska 2\"], [\"ul. Hutnicza 5\"]], \"hoverlabel\": {\"namelength\": 0}, \"hovertemplate\": \"city=%{text}<br>diesel=%{x}<br>gas=%{y}<br>street=%{customdata[0]}\", \"legendgroup\": \"city=Gdynia\", \"marker\": {\"color\": \"#00cc96\", \"symbol\": \"circle\"}, \"mode\": \"markers+text\", \"name\": \"city=Gdynia\", \"showlegend\": true, \"text\": [\"Gdynia\", \"Gdynia\", \"Gdynia\"], \"textposition\": \"top center\", \"type\": \"scatter\", \"x\": [4.06, 4.14, 3.99], \"xaxis\": \"x\", \"y\": [4.07, 4.22, 4.02], \"yaxis\": \"y\"}, {\"customdata\": [[\"ul. Sikorskiego 36\"]], \"hoverlabel\": {\"namelength\": 0}, \"hovertemplate\": \"city=%{text}<br>diesel=%{x}<br>gas=%{y}<br>street=%{customdata[0]}\", \"legendgroup\": \"city=G\\u0142og\\u00f3w\", \"marker\": {\"color\": \"#ab63fa\", \"symbol\": \"circle\"}, \"mode\": \"markers+text\", \"name\": \"city=G\\u0142og\\u00f3w\", \"showlegend\": true, \"text\": [\"G\\u0142og\\u00f3w\"], \"textposition\": \"top center\", \"type\": \"scatter\", \"x\": [4.12], \"xaxis\": \"x\", \"y\": [4.23], \"yaxis\": \"y\"}, {\"customdata\": [[\"ul. Wojska Polskiego 2\"]], \"hoverlabel\": {\"namelength\": 0}, \"hovertemplate\": \"city=%{text}<br>diesel=%{x}<br>gas=%{y}<br>street=%{customdata[0]}\", \"legendgroup\": \"city=Kalisz\", \"marker\": {\"color\": \"#FFA15A\", \"symbol\": \"circle\"}, \"mode\": \"markers+text\", \"name\": \"city=Kalisz\", \"showlegend\": true, \"text\": [\"Kalisz\"], \"textposition\": \"top center\", \"type\": \"scatter\", \"x\": [4.13], \"xaxis\": \"x\", \"y\": [4.29], \"yaxis\": \"y\"}, {\"customdata\": [[\"ul. Jaracza Stefana 95/97\"], [\"ul. gen. Jaros\\u0142awa D\\u0105browskiego 17/21\"]], \"hoverlabel\": {\"namelength\": 0}, \"hovertemplate\": \"city=%{text}<br>diesel=%{x}<br>gas=%{y}<br>street=%{customdata[0]}\", \"legendgroup\": \"city=\\u0141\\u00f3d\\u017a\", \"marker\": {\"color\": \"#19d3f3\", \"symbol\": \"circle\"}, \"mode\": \"markers+text\", \"name\": \"city=\\u0141\\u00f3d\\u017a\", \"showlegend\": true, \"text\": [\"\\u0141\\u00f3d\\u017a\", \"\\u0141\\u00f3d\\u017a\"], \"textposition\": \"top center\", \"type\": \"scatter\", \"x\": [4.05, 4.02], \"xaxis\": \"x\", \"y\": [4.19, 4.17], \"yaxis\": \"y\"}, {\"customdata\": [[\"ul. \\u0141\\u0119czy\\u0144ska 40\"]], \"hoverlabel\": {\"namelength\": 0}, \"hovertemplate\": \"city=%{text}<br>diesel=%{x}<br>gas=%{y}<br>street=%{customdata[0]}\", \"legendgroup\": \"city=Lublin\", \"marker\": {\"color\": \"#FF6692\", \"symbol\": \"circle\"}, \"mode\": \"markers+text\", \"name\": \"city=Lublin\", \"showlegend\": true, \"text\": [\"Lublin\"], \"textposition\": \"top center\", \"type\": \"scatter\", \"x\": [4.09], \"xaxis\": \"x\", \"y\": [4.19], \"yaxis\": \"y\"}, {\"customdata\": [[\"ul. Zamenhofa Ludwika 138\"], [\"ul. Tatrza\\u0144ska 1/5\"]], \"hoverlabel\": {\"namelength\": 0}, \"hovertemplate\": \"city=%{text}<br>diesel=%{x}<br>gas=%{y}<br>street=%{customdata[0]}\", \"legendgroup\": \"city=Pozna\\u0144\", \"marker\": {\"color\": \"#B6E880\", \"symbol\": \"circle\"}, \"mode\": \"markers+text\", \"name\": \"city=Pozna\\u0144\", \"showlegend\": true, \"text\": [\"Pozna\\u0144\", \"Pozna\\u0144\"], \"textposition\": \"top center\", \"type\": \"scatter\", \"x\": [4.39, 4.04], \"xaxis\": \"x\", \"y\": [4.21, 4.19], \"yaxis\": \"y\"}, {\"customdata\": [[\"ul. Wernera Stanis\\u0142awa\"]], \"hoverlabel\": {\"namelength\": 0}, \"hovertemplate\": \"city=%{text}<br>diesel=%{x}<br>gas=%{y}<br>street=%{customdata[0]}\", \"legendgroup\": \"city=Radom\", \"marker\": {\"color\": \"#FF97FF\", \"symbol\": \"circle\"}, \"mode\": \"markers+text\", \"name\": \"city=Radom\", \"showlegend\": true, \"text\": [\"Radom\"], \"textposition\": \"top center\", \"type\": \"scatter\", \"x\": [4.06], \"xaxis\": \"x\", \"y\": [4.18], \"yaxis\": \"y\"}, {\"customdata\": [[\"ul. Gda\\u0144ska 67a\"]], \"hoverlabel\": {\"namelength\": 0}, \"hovertemplate\": \"city=%{text}<br>diesel=%{x}<br>gas=%{y}<br>street=%{customdata[0]}\", \"legendgroup\": \"city=Reda\", \"marker\": {\"color\": \"#FECB52\", \"symbol\": \"circle\"}, \"mode\": \"markers+text\", \"name\": \"city=Reda\", \"showlegend\": true, \"text\": [\"Reda\"], \"textposition\": \"top center\", \"type\": \"scatter\", \"x\": [4.12], \"xaxis\": \"x\", \"y\": [4.19], \"yaxis\": \"y\"}, {\"customdata\": [[\"ul. Sobieskiego\"]], \"hoverlabel\": {\"namelength\": 0}, \"hovertemplate\": \"city=%{text}<br>diesel=%{x}<br>gas=%{y}<br>street=%{customdata[0]}\", \"legendgroup\": \"city=Rumia\", \"marker\": {\"color\": \"#636efa\", \"symbol\": \"circle\"}, \"mode\": \"markers+text\", \"name\": \"city=Rumia\", \"showlegend\": true, \"text\": [\"Rumia\"], \"textposition\": \"top center\", \"type\": \"scatter\", \"x\": [4.12], \"xaxis\": \"x\", \"y\": [4.19], \"yaxis\": \"y\"}, {\"customdata\": [[\"ul. Kotucza Jana 35\"]], \"hoverlabel\": {\"namelength\": 0}, \"hovertemplate\": \"city=%{text}<br>diesel=%{x}<br>gas=%{y}<br>street=%{customdata[0]}\", \"legendgroup\": \"city=Rybnik\", \"marker\": {\"color\": \"#EF553B\", \"symbol\": \"circle\"}, \"mode\": \"markers+text\", \"name\": \"city=Rybnik\", \"showlegend\": true, \"text\": [\"Rybnik\"], \"textposition\": \"top center\", \"type\": \"scatter\", \"x\": [4.06], \"xaxis\": \"x\", \"y\": [4.16], \"yaxis\": \"y\"}, {\"customdata\": [[\"ul. Szczeci\\u0144ska 4 (Kobylnica) \"]], \"hoverlabel\": {\"namelength\": 0}, \"hovertemplate\": \"city=%{text}<br>diesel=%{x}<br>gas=%{y}<br>street=%{customdata[0]}\", \"legendgroup\": \"city=S\\u0142upsk\", \"marker\": {\"color\": \"#00cc96\", \"symbol\": \"circle\"}, \"mode\": \"markers+text\", \"name\": \"city=S\\u0142upsk\", \"showlegend\": true, \"text\": [\"S\\u0142upsk\"], \"textposition\": \"top center\", \"type\": \"scatter\", \"x\": [3.98], \"xaxis\": \"x\", \"y\": [4.18], \"yaxis\": \"y\"}, {\"customdata\": [[\"W\\u00f3jt\\u00f3wka 2F\"]], \"hoverlabel\": {\"namelength\": 0}, \"hovertemplate\": \"city=%{text}<br>diesel=%{x}<br>gas=%{y}<br>street=%{customdata[0]}\", \"legendgroup\": \"city=Sochaczew\", \"marker\": {\"color\": \"#ab63fa\", \"symbol\": \"circle\"}, \"mode\": \"markers+text\", \"name\": \"city=Sochaczew\", \"showlegend\": true, \"text\": [\"Sochaczew\"], \"textposition\": \"top center\", \"type\": \"scatter\", \"x\": [4.09], \"xaxis\": \"x\", \"y\": [4.19], \"yaxis\": \"y\"}, {\"customdata\": [[\"ul. Staszica Stanis\\u0142awa 8b\"]], \"hoverlabel\": {\"namelength\": 0}, \"hovertemplate\": \"city=%{text}<br>diesel=%{x}<br>gas=%{y}<br>street=%{customdata[0]}\", \"legendgroup\": \"city=Sosnowiec\", \"marker\": {\"color\": \"#FFA15A\", \"symbol\": \"circle\"}, \"mode\": \"markers+text\", \"name\": \"city=Sosnowiec\", \"showlegend\": true, \"text\": [\"Sosnowiec\"], \"textposition\": \"top center\", \"type\": \"scatter\", \"x\": [4.07], \"xaxis\": \"x\", \"y\": [4.22], \"yaxis\": \"y\"}, {\"customdata\": [[\"ul. Gda\\u0144ska 16 B\"], [\"ul. Kolumba Krzysztofa 41\"], [\"ul. Basenowa 2\"]], \"hoverlabel\": {\"namelength\": 0}, \"hovertemplate\": \"city=%{text}<br>diesel=%{x}<br>gas=%{y}<br>street=%{customdata[0]}\", \"legendgroup\": \"city=Szczecin\", \"marker\": {\"color\": \"#19d3f3\", \"symbol\": \"circle\"}, \"mode\": \"markers+text\", \"name\": \"city=Szczecin\", \"showlegend\": true, \"text\": [\"Szczecin\", \"Szczecin\", \"Szczecin\"], \"textposition\": \"top center\", \"type\": \"scatter\", \"x\": [4.24, 4.19, 4.24], \"xaxis\": \"x\", \"y\": [4.39, 4.39, 4.39], \"yaxis\": \"y\"}, {\"customdata\": [[\"ul. Kwiatowa 17\"]], \"hoverlabel\": {\"namelength\": 0}, \"hovertemplate\": \"city=%{text}<br>diesel=%{x}<br>gas=%{y}<br>street=%{customdata[0]}\", \"legendgroup\": \"city=Tczew\", \"marker\": {\"color\": \"#FF6692\", \"symbol\": \"circle\"}, \"mode\": \"markers+text\", \"name\": \"city=Tczew\", \"showlegend\": true, \"text\": [\"Tczew\"], \"textposition\": \"top center\", \"type\": \"scatter\", \"x\": [4.14], \"xaxis\": \"x\", \"y\": [4.29], \"yaxis\": \"y\"}, {\"customdata\": [[\"ul. Szosa Bydgoska 63\"]], \"hoverlabel\": {\"namelength\": 0}, \"hovertemplate\": \"city=%{text}<br>diesel=%{x}<br>gas=%{y}<br>street=%{customdata[0]}\", \"legendgroup\": \"city=Toru\\u0144\", \"marker\": {\"color\": \"#B6E880\", \"symbol\": \"circle\"}, \"mode\": \"markers+text\", \"name\": \"city=Toru\\u0144\", \"showlegend\": true, \"text\": [\"Toru\\u0144\"], \"textposition\": \"top center\", \"type\": \"scatter\", \"x\": [4.24], \"xaxis\": \"x\", \"y\": [4.34], \"yaxis\": \"y\"}, {\"customdata\": [[\"ul. Fabryczna 2\"]], \"hoverlabel\": {\"namelength\": 0}, \"hovertemplate\": \"city=%{text}<br>diesel=%{x}<br>gas=%{y}<br>street=%{customdata[0]}\", \"legendgroup\": \"city=Tychy\", \"marker\": {\"color\": \"#FF97FF\", \"symbol\": \"circle\"}, \"mode\": \"markers+text\", \"name\": \"city=Tychy\", \"showlegend\": true, \"text\": [\"Tychy\"], \"textposition\": \"top center\", \"type\": \"scatter\", \"x\": [4.14], \"xaxis\": \"x\", \"y\": [4.22], \"yaxis\": \"y\"}, {\"customdata\": [[\"ul. Budowlanych\"]], \"hoverlabel\": {\"namelength\": 0}, \"hovertemplate\": \"city=%{text}<br>diesel=%{x}<br>gas=%{y}<br>street=%{customdata[0]}\", \"legendgroup\": \"city=Wa\\u0142cz\", \"marker\": {\"color\": \"#FECB52\", \"symbol\": \"circle\"}, \"mode\": \"markers+text\", \"name\": \"city=Wa\\u0142cz\", \"showlegend\": true, \"text\": [\"Wa\\u0142cz\"], \"textposition\": \"top center\", \"type\": \"scatter\", \"x\": [4.34], \"xaxis\": \"x\", \"y\": [4.39], \"yaxis\": \"y\"}, {\"customdata\": [[\"ul. Krakowska 150\"]], \"hoverlabel\": {\"namelength\": 0}, \"hovertemplate\": \"city=%{text}<br>diesel=%{x}<br>gas=%{y}<br>street=%{customdata[0]}\", \"legendgroup\": \"city=Wroc\\u0142aw\", \"marker\": {\"color\": \"#636efa\", \"symbol\": \"circle\"}, \"mode\": \"markers+text\", \"name\": \"city=Wroc\\u0142aw\", \"showlegend\": true, \"text\": [\"Wroc\\u0142aw\"], \"textposition\": \"top center\", \"type\": \"scatter\", \"x\": [4.15], \"xaxis\": \"x\", \"y\": [4.27], \"yaxis\": \"y\"}, {\"customdata\": [[\"ul. Wolno\\u015bci/Bohater\\u00f3w Monte Cassino\"]], \"hoverlabel\": {\"namelength\": 0}, \"hovertemplate\": \"city=%{text}<br>diesel=%{x}<br>gas=%{y}<br>street=%{customdata[0]}\", \"legendgroup\": \"city=Zabrze\", \"marker\": {\"color\": \"#EF553B\", \"symbol\": \"circle\"}, \"mode\": \"markers+text\", \"name\": \"city=Zabrze\", \"showlegend\": true, \"text\": [\"Zabrze\"], \"textposition\": \"top center\", \"type\": \"scatter\", \"x\": [4.14], \"xaxis\": \"x\", \"y\": [4.24], \"yaxis\": \"y\"}, {\"customdata\": [[\"ul. Prze\\u0142adunkowa 2\"]], \"hoverlabel\": {\"namelength\": 0}, \"hovertemplate\": \"city=%{text}<br>diesel=%{x}<br>gas=%{y}<br>street=%{customdata[0]}\", \"legendgroup\": \"city=\\u017bary\", \"marker\": {\"color\": \"#00cc96\", \"symbol\": \"circle\"}, \"mode\": \"markers+text\", \"name\": \"city=\\u017bary\", \"showlegend\": true, \"text\": [\"\\u017bary\"], \"textposition\": \"top center\", \"type\": \"scatter\", \"x\": [3.93], \"xaxis\": \"x\", \"y\": [4.13], \"yaxis\": \"y\"}],\n",
              "                        {\"legend\": {\"tracegroupgap\": 0}, \"template\": {\"data\": {\"bar\": [{\"error_x\": {\"color\": \"#2a3f5f\"}, \"error_y\": {\"color\": \"#2a3f5f\"}, \"marker\": {\"line\": {\"color\": \"#E5ECF6\", \"width\": 0.5}}, \"type\": \"bar\"}], \"barpolar\": [{\"marker\": {\"line\": {\"color\": \"#E5ECF6\", \"width\": 0.5}}, \"type\": \"barpolar\"}], \"carpet\": [{\"aaxis\": {\"endlinecolor\": \"#2a3f5f\", \"gridcolor\": \"white\", \"linecolor\": \"white\", \"minorgridcolor\": \"white\", \"startlinecolor\": \"#2a3f5f\"}, \"baxis\": {\"endlinecolor\": \"#2a3f5f\", \"gridcolor\": \"white\", \"linecolor\": \"white\", \"minorgridcolor\": \"white\", \"startlinecolor\": \"#2a3f5f\"}, \"type\": \"carpet\"}], \"choropleth\": [{\"colorbar\": {\"outlinewidth\": 0, \"ticks\": \"\"}, \"type\": \"choropleth\"}], \"contour\": [{\"colorbar\": {\"outlinewidth\": 0, \"ticks\": \"\"}, \"colorscale\": [[0.0, \"#0d0887\"], [0.1111111111111111, \"#46039f\"], [0.2222222222222222, \"#7201a8\"], [0.3333333333333333, \"#9c179e\"], [0.4444444444444444, \"#bd3786\"], [0.5555555555555556, \"#d8576b\"], [0.6666666666666666, \"#ed7953\"], [0.7777777777777778, \"#fb9f3a\"], [0.8888888888888888, \"#fdca26\"], [1.0, \"#f0f921\"]], \"type\": \"contour\"}], \"contourcarpet\": [{\"colorbar\": {\"outlinewidth\": 0, \"ticks\": \"\"}, \"type\": \"contourcarpet\"}], \"heatmap\": [{\"colorbar\": {\"outlinewidth\": 0, \"ticks\": \"\"}, \"colorscale\": [[0.0, \"#0d0887\"], [0.1111111111111111, \"#46039f\"], [0.2222222222222222, \"#7201a8\"], [0.3333333333333333, \"#9c179e\"], [0.4444444444444444, \"#bd3786\"], [0.5555555555555556, \"#d8576b\"], [0.6666666666666666, \"#ed7953\"], [0.7777777777777778, \"#fb9f3a\"], [0.8888888888888888, \"#fdca26\"], [1.0, \"#f0f921\"]], \"type\": \"heatmap\"}], \"heatmapgl\": [{\"colorbar\": {\"outlinewidth\": 0, \"ticks\": \"\"}, \"colorscale\": [[0.0, \"#0d0887\"], [0.1111111111111111, \"#46039f\"], [0.2222222222222222, \"#7201a8\"], [0.3333333333333333, \"#9c179e\"], [0.4444444444444444, \"#bd3786\"], [0.5555555555555556, \"#d8576b\"], [0.6666666666666666, \"#ed7953\"], [0.7777777777777778, \"#fb9f3a\"], [0.8888888888888888, \"#fdca26\"], [1.0, \"#f0f921\"]], \"type\": \"heatmapgl\"}], \"histogram\": [{\"marker\": {\"colorbar\": {\"outlinewidth\": 0, \"ticks\": \"\"}}, \"type\": \"histogram\"}], \"histogram2d\": [{\"colorbar\": {\"outlinewidth\": 0, \"ticks\": \"\"}, \"colorscale\": [[0.0, \"#0d0887\"], [0.1111111111111111, \"#46039f\"], [0.2222222222222222, \"#7201a8\"], [0.3333333333333333, \"#9c179e\"], [0.4444444444444444, \"#bd3786\"], [0.5555555555555556, \"#d8576b\"], [0.6666666666666666, \"#ed7953\"], [0.7777777777777778, \"#fb9f3a\"], [0.8888888888888888, \"#fdca26\"], [1.0, \"#f0f921\"]], \"type\": \"histogram2d\"}], \"histogram2dcontour\": [{\"colorbar\": {\"outlinewidth\": 0, \"ticks\": \"\"}, \"colorscale\": [[0.0, \"#0d0887\"], [0.1111111111111111, \"#46039f\"], [0.2222222222222222, \"#7201a8\"], [0.3333333333333333, \"#9c179e\"], [0.4444444444444444, \"#bd3786\"], [0.5555555555555556, \"#d8576b\"], [0.6666666666666666, \"#ed7953\"], [0.7777777777777778, \"#fb9f3a\"], [0.8888888888888888, \"#fdca26\"], [1.0, \"#f0f921\"]], \"type\": \"histogram2dcontour\"}], \"mesh3d\": [{\"colorbar\": {\"outlinewidth\": 0, \"ticks\": \"\"}, \"type\": \"mesh3d\"}], \"parcoords\": [{\"line\": {\"colorbar\": {\"outlinewidth\": 0, \"ticks\": \"\"}}, \"type\": \"parcoords\"}], \"pie\": [{\"automargin\": true, \"type\": \"pie\"}], \"scatter\": [{\"marker\": {\"colorbar\": {\"outlinewidth\": 0, \"ticks\": \"\"}}, \"type\": \"scatter\"}], \"scatter3d\": [{\"line\": {\"colorbar\": {\"outlinewidth\": 0, \"ticks\": \"\"}}, \"marker\": {\"colorbar\": {\"outlinewidth\": 0, \"ticks\": \"\"}}, \"type\": \"scatter3d\"}], \"scattercarpet\": [{\"marker\": {\"colorbar\": {\"outlinewidth\": 0, \"ticks\": \"\"}}, \"type\": \"scattercarpet\"}], \"scattergeo\": [{\"marker\": {\"colorbar\": {\"outlinewidth\": 0, \"ticks\": \"\"}}, \"type\": \"scattergeo\"}], \"scattergl\": [{\"marker\": {\"colorbar\": {\"outlinewidth\": 0, \"ticks\": \"\"}}, \"type\": \"scattergl\"}], \"scattermapbox\": [{\"marker\": {\"colorbar\": {\"outlinewidth\": 0, \"ticks\": \"\"}}, \"type\": \"scattermapbox\"}], \"scatterpolar\": [{\"marker\": {\"colorbar\": {\"outlinewidth\": 0, \"ticks\": \"\"}}, \"type\": \"scatterpolar\"}], \"scatterpolargl\": [{\"marker\": {\"colorbar\": {\"outlinewidth\": 0, \"ticks\": \"\"}}, \"type\": \"scatterpolargl\"}], \"scatterternary\": [{\"marker\": {\"colorbar\": {\"outlinewidth\": 0, \"ticks\": \"\"}}, \"type\": \"scatterternary\"}], \"surface\": [{\"colorbar\": {\"outlinewidth\": 0, \"ticks\": \"\"}, \"colorscale\": [[0.0, \"#0d0887\"], [0.1111111111111111, \"#46039f\"], [0.2222222222222222, \"#7201a8\"], [0.3333333333333333, \"#9c179e\"], [0.4444444444444444, \"#bd3786\"], [0.5555555555555556, \"#d8576b\"], [0.6666666666666666, \"#ed7953\"], [0.7777777777777778, \"#fb9f3a\"], [0.8888888888888888, \"#fdca26\"], [1.0, \"#f0f921\"]], \"type\": \"surface\"}], \"table\": [{\"cells\": {\"fill\": {\"color\": \"#EBF0F8\"}, \"line\": {\"color\": \"white\"}}, \"header\": {\"fill\": {\"color\": \"#C8D4E3\"}, \"line\": {\"color\": \"white\"}}, \"type\": \"table\"}]}, \"layout\": {\"annotationdefaults\": {\"arrowcolor\": \"#2a3f5f\", \"arrowhead\": 0, \"arrowwidth\": 1}, \"coloraxis\": {\"colorbar\": {\"outlinewidth\": 0, \"ticks\": \"\"}}, \"colorscale\": {\"diverging\": [[0, \"#8e0152\"], [0.1, \"#c51b7d\"], [0.2, \"#de77ae\"], [0.3, \"#f1b6da\"], [0.4, \"#fde0ef\"], [0.5, \"#f7f7f7\"], [0.6, \"#e6f5d0\"], [0.7, \"#b8e186\"], [0.8, \"#7fbc41\"], [0.9, \"#4d9221\"], [1, \"#276419\"]], \"sequential\": [[0.0, \"#0d0887\"], [0.1111111111111111, \"#46039f\"], [0.2222222222222222, \"#7201a8\"], [0.3333333333333333, \"#9c179e\"], [0.4444444444444444, \"#bd3786\"], [0.5555555555555556, \"#d8576b\"], [0.6666666666666666, \"#ed7953\"], [0.7777777777777778, \"#fb9f3a\"], [0.8888888888888888, \"#fdca26\"], [1.0, \"#f0f921\"]], \"sequentialminus\": [[0.0, \"#0d0887\"], [0.1111111111111111, \"#46039f\"], [0.2222222222222222, \"#7201a8\"], [0.3333333333333333, \"#9c179e\"], [0.4444444444444444, \"#bd3786\"], [0.5555555555555556, \"#d8576b\"], [0.6666666666666666, \"#ed7953\"], [0.7777777777777778, \"#fb9f3a\"], [0.8888888888888888, \"#fdca26\"], [1.0, \"#f0f921\"]]}, \"colorway\": [\"#636efa\", \"#EF553B\", \"#00cc96\", \"#ab63fa\", \"#FFA15A\", \"#19d3f3\", \"#FF6692\", \"#B6E880\", \"#FF97FF\", \"#FECB52\"], \"font\": {\"color\": \"#2a3f5f\"}, \"geo\": {\"bgcolor\": \"white\", \"lakecolor\": \"white\", \"landcolor\": \"#E5ECF6\", \"showlakes\": true, \"showland\": true, \"subunitcolor\": \"white\"}, \"hoverlabel\": {\"align\": \"left\"}, \"hovermode\": \"closest\", \"mapbox\": {\"style\": \"light\"}, \"paper_bgcolor\": \"white\", \"plot_bgcolor\": \"#E5ECF6\", \"polar\": {\"angularaxis\": {\"gridcolor\": \"white\", \"linecolor\": \"white\", \"ticks\": \"\"}, \"bgcolor\": \"#E5ECF6\", \"radialaxis\": {\"gridcolor\": \"white\", \"linecolor\": \"white\", \"ticks\": \"\"}}, \"scene\": {\"xaxis\": {\"backgroundcolor\": \"#E5ECF6\", \"gridcolor\": \"white\", \"gridwidth\": 2, \"linecolor\": \"white\", \"showbackground\": true, \"ticks\": \"\", \"zerolinecolor\": \"white\"}, \"yaxis\": {\"backgroundcolor\": \"#E5ECF6\", \"gridcolor\": \"white\", \"gridwidth\": 2, \"linecolor\": \"white\", \"showbackground\": true, \"ticks\": \"\", \"zerolinecolor\": \"white\"}, \"zaxis\": {\"backgroundcolor\": \"#E5ECF6\", \"gridcolor\": \"white\", \"gridwidth\": 2, \"linecolor\": \"white\", \"showbackground\": true, \"ticks\": \"\", \"zerolinecolor\": \"white\"}}, \"shapedefaults\": {\"line\": {\"color\": \"#2a3f5f\"}}, \"ternary\": {\"aaxis\": {\"gridcolor\": \"white\", \"linecolor\": \"white\", \"ticks\": \"\"}, \"baxis\": {\"gridcolor\": \"white\", \"linecolor\": \"white\", \"ticks\": \"\"}, \"bgcolor\": \"#E5ECF6\", \"caxis\": {\"gridcolor\": \"white\", \"linecolor\": \"white\", \"ticks\": \"\"}}, \"title\": {\"x\": 0.05}, \"xaxis\": {\"automargin\": true, \"gridcolor\": \"white\", \"linecolor\": \"white\", \"ticks\": \"\", \"title\": {\"standoff\": 15}, \"zerolinecolor\": \"white\", \"zerolinewidth\": 2}, \"yaxis\": {\"automargin\": true, \"gridcolor\": \"white\", \"linecolor\": \"white\", \"ticks\": \"\", \"title\": {\"standoff\": 15}, \"zerolinecolor\": \"white\", \"zerolinewidth\": 2}}}, \"title\": {\"text\": \"Scatter plot of eMILA fuel prices across the country on 2020-11-12 20:38:25.459657\"}, \"xaxis\": {\"anchor\": \"y\", \"domain\": [0.0, 1.0], \"title\": {\"text\": \"diesel\"}}, \"yaxis\": {\"anchor\": \"x\", \"domain\": [0.0, 1.0], \"title\": {\"text\": \"gas\"}}},\n",
              "                        {\"responsive\": true}\n",
              "                    ).then(function(){\n",
              "                            \n",
              "var gd = document.getElementById('08079e5d-71f9-4afc-86e4-7303176c813b');\n",
              "var x = new MutationObserver(function (mutations, observer) {{\n",
              "        var display = window.getComputedStyle(gd).display;\n",
              "        if (!display || display === 'none') {{\n",
              "            console.log([gd, 'removed!']);\n",
              "            Plotly.purge(gd);\n",
              "            observer.disconnect();\n",
              "        }}\n",
              "}});\n",
              "\n",
              "// Listen for the removal of the full notebook cells\n",
              "var notebookContainer = gd.closest('#notebook-container');\n",
              "if (notebookContainer) {{\n",
              "    x.observe(notebookContainer, {childList: true});\n",
              "}}\n",
              "\n",
              "// Listen for the clearing of the current output cell\n",
              "var outputEl = gd.closest('.output');\n",
              "if (outputEl) {{\n",
              "    x.observe(outputEl, {childList: true});\n",
              "}}\n",
              "\n",
              "                        })\n",
              "                };\n",
              "                \n",
              "            </script>\n",
              "        </div>\n",
              "</body>\n",
              "</html>"
            ]
          },
          "metadata": {
            "tags": []
          }
        }
      ]
    }
  ]
}